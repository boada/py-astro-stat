{
 "metadata": {
  "name": ""
 },
 "nbformat": 3,
 "nbformat_minor": 0,
 "worksheets": [
  {
   "cells": [
    {
     "cell_type": "markdown",
     "metadata": {
      "slideshow": {
       "slide_type": "-"
      }
     },
     "source": [
      "Study Group 1\n",
      "==============\n",
      "### Robert Lindner, May 20, 2014\n",
      "#### Astrophysics with Python tutorial\n"
     ]
    },
    {
     "cell_type": "markdown",
     "metadata": {},
     "source": [
      "This script is a \"toy\" data analysis script which will demonstrate many of the most useful things you should know when using Python for astrophysics data analysis. \n",
      "Outline:\n",
      "\n",
      "* Basic Python/Numpy functionality\n",
      "* Indentiation\n",
      "* Plotting FITS images\n",
      "* Making Histograms\n",
      "* Read and Plot Astronomical Catalog\n",
      "* Multi-Panel Plots\n",
      "* Classes and Objects\n",
      "* Pickles\n",
      "* Fitting a model to your data"
     ]
    },
    {
     "cell_type": "heading",
     "level": 1,
     "metadata": {},
     "source": [
      "Basic Python/Numpy functionality"
     ]
    },
    {
     "cell_type": "code",
     "collapsed": false,
     "input": [
      "# Boot up python and load the Numpy and Matplotlib modules\n",
      "import numpy as np\n",
      "\n",
      "# The basic structure of the Numpy module is the Numpy Array.\n",
      "# Numpy arrays were invented to mimic the functionality of\n",
      "# MATLAB arrays, and also IDL arrays.\n",
      "\n",
      "empty = np.array([]) # Empty numpy array\n",
      "x = np.arange(5) # [0,1...,4]\n",
      "zeros = np.zeros(5) # Array of five zeros \n",
      "noise = np.random.randn(5) # Array of five Gaussian random numbers\n",
      "\n",
      "print 'empty = ', empty\n",
      "print 'x = ', x\n",
      "print 'zeros = ', zeros\n",
      "print 'noise = ', np.round(noise,2)"
     ],
     "language": "python",
     "metadata": {},
     "outputs": [
      {
       "output_type": "stream",
       "stream": "stdout",
       "text": [
        "empty =  []\n",
        "x =  [0 1 2 3 4]\n",
        "zeros =  [ 0.  0.  0.  0.  0.]\n",
        "noise =  [-1.16  1.69  1.92  1.2   0.78]\n"
       ]
      }
     ],
     "prompt_number": 7
    },
    {
     "cell_type": "code",
     "collapsed": false,
     "input": [
      "# By default, they add element-by-element, and they have\n",
      "# powerful indexing and masking functionality\n",
      "print 'x + x =', x + x\n",
      "print 'x + noise =', np.round(x + noise, 2)"
     ],
     "language": "python",
     "metadata": {},
     "outputs": [
      {
       "output_type": "stream",
       "stream": "stdout",
       "text": [
        "x + x = [0 2 4 6 8]\n",
        "x + noise = [-1.16  2.69  3.92  4.2   4.78]\n"
       ]
      }
     ],
     "prompt_number": 8
    },
    {
     "cell_type": "code",
     "collapsed": false,
     "input": [
      "# One of the most common tasks is selecting data based\n",
      "# on boolean conditions\n",
      "w = x > 2        \n",
      "x[w] = x[w] + 20 # (Add 20 to all values greater than 2)\n",
      "print 'w = ', w\n",
      "print 'x = ', x\n",
      "print 'x[w] = ', x[w]"
     ],
     "language": "python",
     "metadata": {},
     "outputs": [
      {
       "output_type": "stream",
       "stream": "stdout",
       "text": [
        "w =  [False False False  True  True]\n",
        "x =  [ 0  1  2 23 24]\n",
        "x[w] =  [23 24]\n"
       ]
      }
     ],
     "prompt_number": 9
    },
    {
     "cell_type": "heading",
     "level": 1,
     "metadata": {},
     "source": [
      "Indentiation"
     ]
    },
    {
     "cell_type": "code",
     "collapsed": false,
     "input": [
      "# Python does not use brackets, braces, or parentheses, \n",
      "# or even \"end\" statements in it control flows.\n",
      "# Everything is controled using indentation.  You are\n",
      "# free to pick your own level of indendation, but always \n",
      "# use 4 spaces.\n",
      "#\n",
      "# For example, \n",
      "# Suppose we want to iterate through a 2D array and check \n",
      "# the value of each element, the code looks like this:\n",
      "\n",
      "noise = np.random.randn(100,100) # 2D image of Gaussian noise\n",
      "detections = 0\n",
      "print np.sum(noise > 4)\n",
      "for i in range(noise.shape[0]):\n",
      "    for j in range(noise.shape[1]):\n",
      "        if noise[i,j] > 4.:\n",
      "            detections += 1\n",
      "            print '4 Sigma Detection! ', noise[i,j]\n",
      "if detections==0:\n",
      "    print 'No detections, need more observing time.'\n",
      "            \n",
      "\n"
     ],
     "language": "python",
     "metadata": {},
     "outputs": [
      {
       "output_type": "stream",
       "stream": "stdout",
       "text": [
        "0\n",
        "No detections, need more observing time.\n"
       ]
      }
     ],
     "prompt_number": 15
    },
    {
     "cell_type": "heading",
     "level": 1,
     "metadata": {},
     "source": [
      "Plotting FITS images"
     ]
    },
    {
     "cell_type": "code",
     "collapsed": false,
     "input": [
      "# Ok, now let's bring some realistic data into a numpy \n",
      "# array. The fits file \"SUMSS_stamp.fits\" is a 2degx2deg \n",
      "# cutout from the University Molonglo Sky Survey, centered \n",
      "# at ra/dec=3h15m0s -67h30m0s\n",
      "\n",
      "# Fits files are packaged up into Header Data Units (HDUs)\n",
      "# And each HDU has an associated data object (numpy array) \n",
      "# and header object.  Lots to read about here:\n",
      "# http://docs.astropy.org/en/stable/io/fits/index.html\n",
      "\n",
      "import astropy.io.fits as fits\n",
      "\n",
      "file = 'SUMSS_stamp.fits'\n",
      "hdu = fits.open(file)\n",
      "image, header = hdu[0].data, hdu[0].header\n",
      "print 'image.shape = ', image.shape\n",
      "print 'Mean [Jy/beam] = ', image[image==image].mean()\n",
      "print 'Noise [Jy/beam] = ', image[image==image].std()"
     ],
     "language": "python",
     "metadata": {},
     "outputs": [
      {
       "output_type": "stream",
       "stream": "stdout",
       "text": [
        "image.shape =  (654, 563)\n",
        "Mean [Jy/beam] =  0.00037637\n",
        "Noise [Jy/beam] =  0.0152159\n"
       ]
      }
     ],
     "prompt_number": 17
    },
    {
     "cell_type": "code",
     "collapsed": false,
     "input": [
      "# Let's have a look at the image.\n",
      "# Matplotlib is Python's module for plotting.\n",
      "# Loading \"Pyplot\" object into the namespace is all you need.\n",
      "# All useful information can be found here:\n",
      "# http://matplotlib.org/api/pyplot_summary.html\n",
      "\n",
      "from matplotlib import pyplot as plt\n",
      "\n",
      "# Plotting commands create a figure object\n",
      "def plot():\n",
      "    plt.imshow(image, interpolation = 'nearest', # No interpolation\n",
      "                  origin = 'lower', # Make coordinate (0,0) be on bottom \n",
      "                  vmin = -0.05, # Min value for colormap\n",
      "                  vmax = 0.05, # Max value for colormap\n",
      "                  cmap = 'bone') # A pretty colormap\n",
      "    plt.xlabel('x pixel', fontsize=14)\n",
      "    plt.ylabel('y pixel', fontsize=14)\n",
      "\n",
      "    # And this command renders the objects in the plotting device\n",
      "plot()\n",
      "plt.show()\n",
      "\n",
      "\n"
     ],
     "language": "python",
     "metadata": {},
     "outputs": [],
     "prompt_number": 18
    },
    {
     "cell_type": "code",
     "collapsed": false,
     "input": [
      "# Generate a PDF so that you can tune it for inclusion in a paper.\n",
      "# In that case, use the \"os\" module to send commands to the terminal\n",
      "\n",
      "import os\n",
      "\n",
      "plot()\n",
      "\n",
      "os.system('rm -f SUMSS_image.pdf') # Remove file if it exists\n",
      "plt.savefig('SUMSS_image.pdf', format='pdf')\n",
      "os.system('xpdf SUMSS_image.pdf &') # Display PDF using favorite viewer\n"
     ],
     "language": "python",
     "metadata": {},
     "outputs": [
      {
       "metadata": {},
       "output_type": "pyout",
       "prompt_number": 19,
       "text": [
        "0"
       ]
      }
     ],
     "prompt_number": 19
    },
    {
     "cell_type": "heading",
     "level": 1,
     "metadata": {},
     "source": [
      "Making Histograms"
     ]
    },
    {
     "cell_type": "code",
     "collapsed": false,
     "input": [
      "# Generate Pixel-Value Distribution Function (Histogram)\n",
      "# to investigate the noise/signal properties\n",
      "#\n",
      "# Select all non-NAN pixels\n",
      "# Ravel will unravel any array into 1D\n",
      "pixels = image[image==image].ravel()\n",
      "\n",
      "# Generate histogram\n",
      "# Bin *Edges* are input to histogram function\n",
      "# We create bin midpoints array for plotting\n",
      "bin_edges = np.linspace(-0.02, 0.03,1000)\n",
      "hist, edges = np.histogram(pixels, bins=bin_edges)\n",
      "bin_mids = (bin_edges[0:-1] + bin_edges[1:]) / 2.\n",
      "\n",
      "plt.plot(bin_mids, hist, '-ok', alpha=0.4) # Connected black circles\n",
      "plt.xlabel('Jy/Beam', fontsize=16)\n",
      "plt.ylabel('Pixels', fontsize=16)\n",
      "plt.yscale('log')\n",
      "plt.show()\n"
     ],
     "language": "python",
     "metadata": {},
     "outputs": [
      {
       "output_type": "stream",
       "stream": "stderr",
       "text": [
        "/usr/local/Cellar/python/2.7.6/Frameworks/Python.framework/Versions/2.7/lib/python2.7/site-packages/matplotlib/axes/_base.py:1148: UserWarning: aspect is not supported for Axes with xscale=linear, yscale=log\n",
        "  'yscale=%s' % (xscale, yscale))\n",
        "/usr/local/Cellar/python/2.7.6/Frameworks/Python.framework/Versions/2.7/lib/python2.7/site-packages/matplotlib/image.py:353: UserWarning: Images are not supported on non-linear axes.\n",
        "  warnings.warn(\"Images are not supported on non-linear axes.\")\n"
       ]
      }
     ],
     "prompt_number": 20
    },
    {
     "cell_type": "heading",
     "level": 1,
     "metadata": {},
     "source": [
      "Read and Plot Astronomical Catalog"
     ]
    },
    {
     "cell_type": "code",
     "collapsed": false,
     "input": [
      "# ASCII Table into Numpy array\n",
      "# Catalog of SUMSS field from NED database\n",
      "catfile = 'catalog_75am.txt'\n",
      "ra, dec = np.loadtxt(catfile, delimiter='|', usecols = [2,3], unpack=True, skiprows=25)\n",
      "print ra[:5]\n",
      "print dec[:5]\n",
      "\n"
     ],
     "language": "python",
     "metadata": {},
     "outputs": [
      {
       "output_type": "stream",
       "stream": "stdout",
       "text": [
        "[ 48.56741  48.56081  48.52667  48.49644  48.63609]\n",
        "[-67.59635 -67.60739 -67.61421 -67.60599 -67.60994]\n"
       ]
      }
     ],
     "prompt_number": 21
    },
    {
     "cell_type": "code",
     "collapsed": false,
     "input": [
      "# Create a WCS object to perform coordinate transformatinos\n",
      "\n",
      "from astropy import wcs\n",
      "my_wcs = wcs.WCS(header = header, relax=True)\n",
      "wcs_coords = np.array([ra,dec]).T\n",
      "x, y = my_wcs.wcs_world2pix(ra,dec,0)\n",
      "plot()\n",
      "plt.xlim(220,360) # Zoom in a bit\n",
      "plt.ylim(200,350) # \"\"\n",
      "plt.plot(x,y,'or',mew=0,ms=3, label='NED sources')\n",
      "plt.legend(loc=0, numpoints=1)\n",
      "plt.show()"
     ],
     "language": "python",
     "metadata": {},
     "outputs": [
      {
       "output_type": "stream",
       "stream": "stderr",
       "text": [
        "WARNING:astropy:FITSFixedWarning: 'datfix' made the change 'Invalid parameter value: invalid date '        ''.\n"
       ]
      },
      {
       "output_type": "stream",
       "stream": "stdout",
       "text": [
        "WARNING: FITSFixedWarning: 'datfix' made the change 'Invalid parameter value: invalid date '        ''. [astropy.wcs.wcs]\n"
       ]
      }
     ],
     "prompt_number": 22
    },
    {
     "cell_type": "heading",
     "level": 1,
     "metadata": {},
     "source": [
      "Multi-Panel Plots"
     ]
    },
    {
     "cell_type": "code",
     "collapsed": false,
     "input": [
      "# Create a figure to hold the panels\n",
      "fig = plt.figure(figsize=[10,5])\n",
      "\n",
      "# Initialize one axes object each for the panels\n",
      "ax1 = fig.add_subplot(1,2,1)\n",
      "ax2 = fig.add_subplot(1,2,2)\n",
      "\n",
      "# Panel 1\n",
      "ax1.imshow(image, interpolation = 'nearest', # No interpolation\n",
      "                  origin = 'lower', # Make coordinate (0,0) be on bottom \n",
      "                  vmin = -0.05, # Min value for colormap\n",
      "                  vmax = 0.05, # Max value for colormap\n",
      "                  cmap = 'bone') # A pretty colormap\n",
      "ax1.set_xlabel('x pixel', fontsize=14)\n",
      "ax1.set_ylabel('y pixel', fontsize=14)\n",
      "ax1.set_xlim(220,360) # Zoom in a bit\n",
      "ax1.set_ylim(200,350) # \"\"\n",
      "ax1.plot(x,y,'or',mew=0,ms=3, label='NED sources')\n",
      "ax1.legend(loc=0, numpoints=1)\n",
      "\n",
      "# Panel 2\n",
      "ax2.plot(bin_mids, hist, '-ok', alpha = 0.4) # Connected black circles\n",
      "ax2.set_xlabel('Jy/Beam', fontsize = 16)\n",
      "ax2.set_ylabel('Pixels', fontsize = 16)\n",
      "ax2.set_yscale('log')\n",
      "\n",
      "\n",
      "plt.show()"
     ],
     "language": "python",
     "metadata": {},
     "outputs": []
    },
    {
     "cell_type": "heading",
     "level": 1,
     "metadata": {},
     "source": [
      "Classes and Objects"
     ]
    },
    {
     "cell_type": "code",
     "collapsed": false,
     "input": [
      "# Many times it is useful to embrace object oriented\n",
      "# programming and make a new class to hold your information\n",
      "# For example, suppose we just want to create a bunch of\n",
      "# information that is easy to package and keep safe:\n",
      "\n",
      "# Create an empty class\n",
      "class project:\n",
      "    \"\"\" Empty Class\"\"\"\n",
      "    pass\n",
      "\n",
      "# Initialize an object and load full of information\n",
      "proj1 = project()\n",
      "proj1.name='Robert'\n",
      "proj1.x = 23\n",
      "proj1.y = 42\n",
      "proj1.noise = np.random.randn(100)\n",
      "\n",
      "# Look through the object\n",
      "print proj1\n",
      "print 'dir(proj1) = ', dir(proj1) # What is inside this thing?\n",
      "print 'proj1.x = ', proj1.x\n",
      "\n",
      "\n"
     ],
     "language": "python",
     "metadata": {},
     "outputs": []
    },
    {
     "cell_type": "heading",
     "level": 1,
     "metadata": {},
     "source": [
      "Pickles"
     ]
    },
    {
     "cell_type": "code",
     "collapsed": false,
     "input": [
      "# The Pickle is Python's way to package up Python objects\n",
      "# and save them on hard disk.  They are similar in nature \n",
      "# to IDL save variables.  They are very useful for saving\n",
      "# intermediate Python-specific results.\n",
      "#\n",
      "# For example, suppose we ran a long script which produced\n",
      "# results consisting of lots of heterogeneous data types:\n",
      "import pickle\n",
      "\n",
      "\n",
      "results1 = [1,2,3,4]\n",
      "results2 = np.random.randn(1000)\n",
      "results3 = 'Science!'\n",
      "\n",
      "# To save these for further analysis later, we could do:\n",
      "results = [results1, results2, results3]\n",
      "filename = 'results_may_20_2014.pickle'\n",
      "pickle.dump(results, open(filename, 'wb'))\n",
      "\n",
      "\n",
      "# Later, we read them in and perform higher level\n",
      "# analysis\n",
      "a, b, c = pickle.load(open(filename))\n",
      "print 'a = ', a\n",
      "print 'len(b) = ', len(b)\n",
      "print 'c = ', c\n",
      "\n",
      "\n",
      "\n"
     ],
     "language": "python",
     "metadata": {},
     "outputs": []
    },
    {
     "cell_type": "heading",
     "level": 1,
     "metadata": {},
     "source": [
      "Fitting a model to your data"
     ]
    },
    {
     "cell_type": "markdown",
     "metadata": {},
     "source": [
      "There are many convenience functions for fitting different *specific* kinds of functions to *specific* kinds of data, e.g., I'm going to guess the existence of \"linefit\", \"polyfit\", \"gaussfit\", \"2Dgaussfit\", ....\n",
      "I don't care to learn these techniques, because learning the syntax for any one of them does not apply to any others, and it hides the fundamental optimization algorithm, which is important to understand when things don't go perfectly (and it never will).  Therefore, the following code represents a very general approach to the problem.  Although the up-front code a bit more, the payoff when you want to change your data type, model, objective function, or optimization routine is astronomical."
     ]
    },
    {
     "cell_type": "code",
     "collapsed": false,
     "input": [
      "# The general process for model fitting is just an optimization problem:\n",
      "# 1. Get some data\n",
      "# 2. Choose a model to fit\n",
      "# 3. Vary parameters of the model to optimzize an objective function\n",
      "#\n",
      "# The Least squares objective function is the most common in astrophysics.\n",
      "# Therefore, let's fit a Gaussian to the pixel distribution function in order\n",
      "# to make a robust estimate of the image noise."
     ],
     "language": "python",
     "metadata": {},
     "outputs": []
    },
    {
     "cell_type": "code",
     "collapsed": false,
     "input": [
      "# From \"Making Histograms\" above, our data consists of the\n",
      "# histogram of pixel values\n",
      "print 'len(hist) = ', len(hist)\n",
      "print 'len(bin_mids) = ', len(bin_mids)\n",
      "\n",
      "# Through visual inspection, we  decide to only consider the data \n",
      "# between -0.002 and +0.002, to ignore the strong signals from \n",
      "# bright sources.\n",
      "\n",
      "# Make a boolean mask to represent this decision\n",
      "w = (bin_mids > -0.002) & (bin_mids < +0.002)\n",
      "\n",
      "# Plot the masked data\n",
      "plt.plot(bin_mids[w], hist[w], 'ok')\n",
      "plt.show()\n",
      "\n"
     ],
     "language": "python",
     "metadata": {},
     "outputs": []
    },
    {
     "cell_type": "code",
     "collapsed": false,
     "input": [
      "# Define the model as function\n",
      "# x = data\n",
      "# peak, center, sigma = parameters of model\n",
      "def gaussian(x, peak, center, sigma):\n",
      "    return peak * np.exp(-(x-center)**2/2./sigma**2)\n",
      "\n",
      "# Check function by evaluating at Half-Power point\n",
      "xhalf = 2. * np.sqrt(2. * np.log(2)) / 2.\n",
      "print 'Should be 0.5:  ', gaussian(xhalf, 1., 0., 1.)\n"
     ],
     "language": "python",
     "metadata": {},
     "outputs": []
    },
    {
     "cell_type": "code",
     "collapsed": false,
     "input": [
      "# Define the (Least Squares) objective function.\n",
      "# The optimization algorithms don't know what our\n",
      "# parameters mean, so they prefer to be passsed a \n",
      "# single \"rolled up\" list of parameters.\n",
      "#\n",
      "# For example, let's define: params = [amp, center, sigma]\n",
      "\n",
      "# Given that our data are binned counts, the uncertainties\n",
      "# are Poisson distributed.  The min value is >1000, so SQRT(DATA)\n",
      "# will approximate the errors well.\n",
      "errors = np.sqrt(hist)\n",
      "m = len(hist)\n",
      "\n",
      "def objective_function(params):\n",
      "    amp, center, sigma = params\n",
      "    residuals = (gaussian(bin_mids[w], amp, center, sigma) - hist[w]) / errors[w]\n",
      "    return np.sum((residuals)**2) / m\n",
      "    \n",
      "# Let's evaluate the objective function with an initial guess: \n",
      "params_initial = [5000, 0, 0.01]\n",
      "print objective_function(params_initial)\n",
      "\n",
      "\n"
     ],
     "language": "python",
     "metadata": {},
     "outputs": []
    },
    {
     "cell_type": "code",
     "collapsed": false,
     "input": [
      "# Minimize\n",
      "#http://docs.scipy.org/doc/scipy-0.13.0/reference/generated/scipy.optimize.minimize.html\n",
      "\n",
      "from scipy.optimize import minimize\n",
      "\n",
      "# The minimize function has support for many popular\n",
      "# optimization algorithms using the \"method\" keyword.  \n",
      "# Different algorithms will perform better depending\n",
      "# on if you know the gradient (1st derivatives) or\n",
      "# Hessian (2nd Derivatives) of your objective function, \n",
      "# and what the topology of your parameter space looks like.\n",
      "# Let's forget about the derivatives and just use Powell's method.\n",
      "\n",
      "# All the hard work was in specifying the model and objective\n",
      "# functions, now we just run:\n",
      "\n",
      "results = minimize(objective_function, params_initial, method='Powell')\n",
      "params_fit = results.x\n",
      "\n",
      "print 'Fit: Peak, Center, Sigma = ', params_fit\n",
      "\n",
      "# Now we have our robustly-measured image noise\n",
      "print 'Image noise [mJy/beam] = ', params_fit[2] * 1E3\n",
      "\n"
     ],
     "language": "python",
     "metadata": {},
     "outputs": []
    },
    {
     "cell_type": "code",
     "collapsed": false,
     "input": [
      "# Lets plot the noise curve over the full histogram\n",
      "\n",
      "model = gaussian(bin_mids, *params_fit)\n",
      "plt.plot(bin_mids, model, label='Best-fit Noise Model', lw=3, color='red')\n",
      "\n",
      "\n",
      "plt.plot(bin_mids, hist, '-ok', alpha=0.2, label='Image Pixels') # Connected black circles\n",
      "plt.xlabel('Jy/Beam', fontsize=16)\n",
      "plt.ylabel('Pixels', fontsize=16)\n",
      "plt.yscale('log')\n",
      "plt.ylim(1,10000)\n",
      "\n",
      "plt.legend(loc=0)\n",
      "plt.show()"
     ],
     "language": "python",
     "metadata": {},
     "outputs": []
    },
    {
     "cell_type": "code",
     "collapsed": false,
     "input": [],
     "language": "python",
     "metadata": {},
     "outputs": []
    }
   ],
   "metadata": {}
  }
 ]
}